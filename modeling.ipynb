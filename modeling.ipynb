{
 "cells": [
  {
   "cell_type": "code",
   "execution_count": 1,
   "metadata": {},
   "outputs": [],
   "source": [
    "# Importing libraries\n",
    "from keras.preprocessing.image import ImageDataGenerator, array_to_img, img_to_array, load_img\n",
    "import os, shutil\n",
    "import numpy as np\n",
    "import pandas as pd\n",
    "from keras.models import Sequential\n",
    "from keras import initializers\n",
    "from keras import layers\n",
    "from sklearn.preprocessing import StandardScaler\n",
    "from sklearn.metrics import mean_squared_error\n",
    "from keras import optimizers\n",
    "from sklearn.model_selection import train_test_split\n",
    "\n",
    "import warnings\n",
    "warnings.filterwarnings('ignore')"
   ]
  },
  {
   "cell_type": "code",
   "execution_count": 3,
   "metadata": {},
   "outputs": [
    {
     "name": "stdout",
     "output_type": "stream",
     "text": [
      "Found 624 images belonging to 2 classes.\n",
      "Found 5216 images belonging to 2 classes.\n"
     ]
    }
   ],
   "source": [
    "# Directory path\n",
    "train_data_dir = 'chest_xray/train'\n",
    "test_data_dir = 'chest_xray/test'\n",
    "\n",
    "# get all the data in the directory split/test (624 images), and reshape them\n",
    "test_generator = ImageDataGenerator(rescale=1./255).flow_from_directory(\n",
    "        test_data_dir, \n",
    "        batch_size = 624) \n",
    "\n",
    "# get all the data in the directory split/train (5216 images), and reshape them\n",
    "train_generator = ImageDataGenerator(rescale=1./255).flow_from_directory(\n",
    "        train_data_dir, \n",
    "        batch_size=5216)\n",
    "\n",
    "# create the data sets\n",
    "train_images, train_labels = next(train_generator)\n",
    "test_images, test_labels = next(test_generator)"
   ]
  },
  {
   "cell_type": "code",
   "execution_count": 4,
   "metadata": {},
   "outputs": [],
   "source": [
    "# Reshape the train & test labels \n",
    "train_y = np.reshape(train_labels[:,0], (5216,1))\n",
    "test_y = np.reshape(test_labels[:,0], (624,1))"
   ]
  },
  {
   "cell_type": "code",
   "execution_count": 5,
   "metadata": {},
   "outputs": [],
   "source": [
    "# Reshape images\n",
    "train_img = train_images.reshape(train_images.shape[0], -1)\n",
    "test_img = test_images.reshape(test_images.shape[0], -1)"
   ]
  },
  {
   "cell_type": "code",
   "execution_count": 6,
   "metadata": {},
   "outputs": [
    {
     "name": "stdout",
     "output_type": "stream",
     "text": [
      "(5216, 196608)\n",
      "(624, 196608)\n"
     ]
    }
   ],
   "source": [
    "print(train_img.shape)\n",
    "print(test_img.shape)"
   ]
  },
  {
   "cell_type": "code",
   "execution_count": 7,
   "metadata": {},
   "outputs": [],
   "source": [
    "# Build a baseline fully connected model\n",
    "from keras import models\n",
    "from keras import layers\n",
    "np.random.seed(123)\n",
    "model = models.Sequential()\n",
    "model.add(layers.Dense(20, activation='relu', input_shape=(196608,))) # 2 hidden layers\n",
    "model.add(layers.Dense(7, activation='relu'))\n",
    "model.add(layers.Dense(5, activation='relu'))\n",
    "model.add(layers.Dense(1, activation='sigmoid'))"
   ]
  },
  {
   "cell_type": "code",
   "execution_count": 9,
   "metadata": {},
   "outputs": [
    {
     "name": "stdout",
     "output_type": "stream",
     "text": [
      "Epoch 1/50\n",
      "163/163 [==============================] - 6s 36ms/step - loss: 0.6766 - accuracy: 0.7402 - val_loss: 0.6623 - val_accuracy: 0.6250\n",
      "Epoch 2/50\n",
      "163/163 [==============================] - 6s 34ms/step - loss: 0.5949 - accuracy: 0.7429 - val_loss: 0.6657 - val_accuracy: 0.6250\n",
      "Epoch 3/50\n",
      "163/163 [==============================] - 5s 29ms/step - loss: 0.5780 - accuracy: 0.7429 - val_loss: 0.6749 - val_accuracy: 0.6250\n",
      "Epoch 4/50\n",
      "163/163 [==============================] - 5s 33ms/step - loss: 0.5726 - accuracy: 0.7429 - val_loss: 0.6826 - val_accuracy: 0.6250\n",
      "Epoch 5/50\n",
      "163/163 [==============================] - 5s 32ms/step - loss: 0.5708 - accuracy: 0.7429 - val_loss: 0.6883 - val_accuracy: 0.6250\n",
      "Epoch 6/50\n",
      "163/163 [==============================] - 5s 31ms/step - loss: 0.5703 - accuracy: 0.7429 - val_loss: 0.6911 - val_accuracy: 0.6250\n",
      "Epoch 7/50\n",
      "163/163 [==============================] - 4s 25ms/step - loss: 0.5701 - accuracy: 0.7429 - val_loss: 0.6930 - val_accuracy: 0.6250\n",
      "Epoch 8/50\n",
      "163/163 [==============================] - 4s 22ms/step - loss: 0.5701 - accuracy: 0.7429 - val_loss: 0.6940 - val_accuracy: 0.6250\n",
      "Epoch 9/50\n",
      "163/163 [==============================] - 5s 29ms/step - loss: 0.5701 - accuracy: 0.7429 - val_loss: 0.6944 - val_accuracy: 0.6250\n",
      "Epoch 10/50\n",
      "163/163 [==============================] - 5s 34ms/step - loss: 0.5701 - accuracy: 0.7429 - val_loss: 0.6946 - val_accuracy: 0.6250\n",
      "Epoch 11/50\n",
      "163/163 [==============================] - 4s 27ms/step - loss: 0.5701 - accuracy: 0.7429 - val_loss: 0.6951 - val_accuracy: 0.6250\n",
      "Epoch 12/50\n",
      "163/163 [==============================] - 3s 21ms/step - loss: 0.5701 - accuracy: 0.7429 - val_loss: 0.6948 - val_accuracy: 0.6250\n",
      "Epoch 13/50\n",
      "163/163 [==============================] - 4s 27ms/step - loss: 0.5700 - accuracy: 0.7429 - val_loss: 0.6941 - val_accuracy: 0.6250\n",
      "Epoch 14/50\n",
      "163/163 [==============================] - 5s 31ms/step - loss: 0.5701 - accuracy: 0.7429 - val_loss: 0.6947 - val_accuracy: 0.6250\n",
      "Epoch 15/50\n",
      "163/163 [==============================] - 4s 26ms/step - loss: 0.5700 - accuracy: 0.7429 - val_loss: 0.6949 - val_accuracy: 0.6250\n",
      "Epoch 16/50\n",
      "163/163 [==============================] - 4s 26ms/step - loss: 0.5700 - accuracy: 0.7429 - val_loss: 0.6951 - val_accuracy: 0.6250\n",
      "Epoch 17/50\n",
      "163/163 [==============================] - 6s 37ms/step - loss: 0.5700 - accuracy: 0.7429 - val_loss: 0.6953 - val_accuracy: 0.6250\n",
      "Epoch 18/50\n",
      "163/163 [==============================] - 6s 38ms/step - loss: 0.5700 - accuracy: 0.7429 - val_loss: 0.6948 - val_accuracy: 0.6250\n",
      "Epoch 19/50\n",
      "163/163 [==============================] - 6s 36ms/step - loss: 0.5700 - accuracy: 0.7429 - val_loss: 0.6953 - val_accuracy: 0.6250\n",
      "Epoch 20/50\n",
      "163/163 [==============================] - 5s 28ms/step - loss: 0.5701 - accuracy: 0.7429 - val_loss: 0.6955 - val_accuracy: 0.6250\n",
      "Epoch 21/50\n",
      "163/163 [==============================] - 4s 27ms/step - loss: 0.5700 - accuracy: 0.7429 - val_loss: 0.6955 - val_accuracy: 0.6250\n",
      "Epoch 22/50\n",
      "163/163 [==============================] - 6s 34ms/step - loss: 0.5701 - accuracy: 0.7429 - val_loss: 0.6955 - val_accuracy: 0.6250\n",
      "Epoch 23/50\n",
      "163/163 [==============================] - 5s 32ms/step - loss: 0.5700 - accuracy: 0.7429 - val_loss: 0.6951 - val_accuracy: 0.6250\n",
      "Epoch 24/50\n",
      "163/163 [==============================] - 5s 33ms/step - loss: 0.5700 - accuracy: 0.7429 - val_loss: 0.6955 - val_accuracy: 0.6250\n",
      "Epoch 25/50\n",
      "163/163 [==============================] - 6s 37ms/step - loss: 0.5700 - accuracy: 0.7429 - val_loss: 0.6956 - val_accuracy: 0.6250\n",
      "Epoch 26/50\n",
      "163/163 [==============================] - 6s 35ms/step - loss: 0.5700 - accuracy: 0.7429 - val_loss: 0.6953 - val_accuracy: 0.6250\n",
      "Epoch 27/50\n",
      "163/163 [==============================] - 4s 28ms/step - loss: 0.5701 - accuracy: 0.7429 - val_loss: 0.6954 - val_accuracy: 0.6250\n",
      "Epoch 28/50\n",
      "163/163 [==============================] - 5s 29ms/step - loss: 0.5701 - accuracy: 0.7429 - val_loss: 0.6956 - val_accuracy: 0.6250\n",
      "Epoch 29/50\n",
      "163/163 [==============================] - 6s 37ms/step - loss: 0.5700 - accuracy: 0.7429 - val_loss: 0.6957 - val_accuracy: 0.6250\n",
      "Epoch 30/50\n",
      "163/163 [==============================] - 7s 44ms/step - loss: 0.5700 - accuracy: 0.7429 - val_loss: 0.6953 - val_accuracy: 0.6250\n",
      "Epoch 31/50\n",
      "163/163 [==============================] - 9s 53ms/step - loss: 0.5700 - accuracy: 0.7429 - val_loss: 0.6953 - val_accuracy: 0.6250\n",
      "Epoch 32/50\n",
      "163/163 [==============================] - 8s 47ms/step - loss: 0.5700 - accuracy: 0.7429 - val_loss: 0.6951 - val_accuracy: 0.6250\n",
      "Epoch 33/50\n",
      "163/163 [==============================] - 7s 45ms/step - loss: 0.5700 - accuracy: 0.7429 - val_loss: 0.6956 - val_accuracy: 0.6250\n",
      "Epoch 34/50\n",
      "163/163 [==============================] - 6s 38ms/step - loss: 0.5701 - accuracy: 0.7429 - val_loss: 0.6958 - val_accuracy: 0.6250\n",
      "Epoch 35/50\n",
      "163/163 [==============================] - 7s 43ms/step - loss: 0.5700 - accuracy: 0.7429 - val_loss: 0.6948 - val_accuracy: 0.6250\n",
      "Epoch 36/50\n",
      "163/163 [==============================] - 7s 40ms/step - loss: 0.5700 - accuracy: 0.7429 - val_loss: 0.6953 - val_accuracy: 0.6250\n",
      "Epoch 37/50\n",
      "163/163 [==============================] - 7s 41ms/step - loss: 0.5700 - accuracy: 0.7429 - val_loss: 0.6948 - val_accuracy: 0.6250\n",
      "Epoch 38/50\n",
      "163/163 [==============================] - 6s 39ms/step - loss: 0.5701 - accuracy: 0.7429 - val_loss: 0.6949 - val_accuracy: 0.6250\n",
      "Epoch 39/50\n",
      "163/163 [==============================] - 6s 38ms/step - loss: 0.5700 - accuracy: 0.7429 - val_loss: 0.6948 - val_accuracy: 0.6250\n",
      "Epoch 40/50\n",
      "163/163 [==============================] - 7s 40ms/step - loss: 0.5700 - accuracy: 0.7429 - val_loss: 0.6944 - val_accuracy: 0.6250\n",
      "Epoch 41/50\n",
      "163/163 [==============================] - 6s 38ms/step - loss: 0.5701 - accuracy: 0.7429 - val_loss: 0.6948 - val_accuracy: 0.6250\n",
      "Epoch 42/50\n",
      "163/163 [==============================] - 7s 44ms/step - loss: 0.5701 - accuracy: 0.7429 - val_loss: 0.6951 - val_accuracy: 0.6250\n",
      "Epoch 43/50\n",
      "163/163 [==============================] - 7s 41ms/step - loss: 0.5700 - accuracy: 0.7429 - val_loss: 0.6951 - val_accuracy: 0.6250\n",
      "Epoch 44/50\n",
      "163/163 [==============================] - 6s 38ms/step - loss: 0.5700 - accuracy: 0.7429 - val_loss: 0.6950 - val_accuracy: 0.6250\n",
      "Epoch 45/50\n",
      "163/163 [==============================] - 5s 32ms/step - loss: 0.5700 - accuracy: 0.7429 - val_loss: 0.6951 - val_accuracy: 0.6250\n",
      "Epoch 46/50\n",
      "163/163 [==============================] - 4s 27ms/step - loss: 0.5700 - accuracy: 0.7429 - val_loss: 0.6949 - val_accuracy: 0.6250\n",
      "Epoch 47/50\n",
      "163/163 [==============================] - 4s 26ms/step - loss: 0.5700 - accuracy: 0.7429 - val_loss: 0.6949 - val_accuracy: 0.6250\n",
      "Epoch 48/50\n",
      "163/163 [==============================] - 4s 23ms/step - loss: 0.5700 - accuracy: 0.7429 - val_loss: 0.6947 - val_accuracy: 0.6250\n",
      "Epoch 49/50\n",
      "163/163 [==============================] - 6s 36ms/step - loss: 0.5700 - accuracy: 0.7429 - val_loss: 0.6951 - val_accuracy: 0.6250\n",
      "Epoch 50/50\n",
      "163/163 [==============================] - 5s 33ms/step - loss: 0.5700 - accuracy: 0.7429 - val_loss: 0.6952 - val_accuracy: 0.6250\n"
     ]
    }
   ],
   "source": [
    "# Compile and fit\n",
    "model.compile(optimizer='sgd',\n",
    "              loss='binary_crossentropy',\n",
    "              metrics=['accuracy'])\n",
    "\n",
    "history = model.fit(train_img,\n",
    "                    train_y,\n",
    "                    epochs=50,\n",
    "                    batch_size=32,\n",
    "                    validation_data=(test_img, test_y))"
   ]
  },
  {
   "cell_type": "code",
   "execution_count": 10,
   "metadata": {},
   "outputs": [
    {
     "name": "stdout",
     "output_type": "stream",
     "text": [
      "163/163 [==============================] - 6s 35ms/step - loss: 0.5700 - accuracy: 0.7429\n"
     ]
    },
    {
     "data": {
      "text/plain": [
       "[0.5699948668479919, 0.7429064512252808]"
      ]
     },
     "execution_count": 10,
     "metadata": {},
     "output_type": "execute_result"
    }
   ],
   "source": [
    "results_train = model.evaluate(train_img, train_y)\n",
    "results_train"
   ]
  },
  {
   "cell_type": "code",
   "execution_count": null,
   "metadata": {},
   "outputs": [],
   "source": []
  }
 ],
 "metadata": {
  "kernelspec": {
   "display_name": "Python (learn-env)",
   "language": "python",
   "name": "learn-env"
  },
  "language_info": {
   "codemirror_mode": {
    "name": "ipython",
    "version": 3
   },
   "file_extension": ".py",
   "mimetype": "text/x-python",
   "name": "python",
   "nbconvert_exporter": "python",
   "pygments_lexer": "ipython3",
   "version": "3.8.5"
  }
 },
 "nbformat": 4,
 "nbformat_minor": 4
}
