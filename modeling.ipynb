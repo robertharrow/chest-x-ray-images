{
 "cells": [
  {
   "cell_type": "code",
   "execution_count": 1,
   "metadata": {},
   "outputs": [],
   "source": [
    "# Importing libraries\n",
    "import os, shutil, random\n",
    "import tensorflow as tf \n",
    "from tensorflow.keras.utils import image_dataset_from_directory, load_img, img_to_array, array_to_img\n",
    "\n",
    "import warnings\n",
    "warnings.filterwarnings('ignore')"
   ]
  },
  {
   "cell_type": "code",
   "execution_count": 2,
   "metadata": {},
   "outputs": [
    {
     "data": {
      "text/plain": [
       "<bound method Image.getpixel of <PIL.Image.Image image mode=RGB size=1620x1438 at 0x1A4CF44EF10>>"
      ]
     },
     "execution_count": 2,
     "metadata": {},
     "output_type": "execute_result"
    }
   ],
   "source": [
    "# First, I want to get a random image to understand what they look like and their properties \n",
    "rand_image_path = \"chest_xray/train/NORMAL/\" + random.choice(os.listdir(\"chest_xray/train/NORMAL\"))\n",
    "rand_image = load_img(rand_image_path)\n",
    "rand_image.getpixel"
   ]
  },
  {
   "cell_type": "code",
   "execution_count": 3,
   "metadata": {},
   "outputs": [],
   "source": [
    "# Directory path\n",
    "test_folder = 'chest_xray/test'\n",
    "train_folder = 'chest_xray/train'"
   ]
  },
  {
   "cell_type": "code",
   "execution_count": 4,
   "metadata": {},
   "outputs": [],
   "source": [
    "batch_size = 32\n",
    "img_height = 256\n",
    "img_width = 256"
   ]
  },
  {
   "cell_type": "code",
   "execution_count": 23,
   "metadata": {},
   "outputs": [
    {
     "name": "stdout",
     "output_type": "stream",
     "text": [
      "Found 5232 files belonging to 2 classes.\n",
      "Using 4186 files for training.\n"
     ]
    }
   ],
   "source": [
    "train_ds = image_dataset_from_directory(\n",
    "  train_folder,\n",
    "  label_mode = 'binary',\n",
    "  validation_split=0.2,\n",
    "  subset=\"training\",\n",
    "  seed=123,\n",
    "  image_size=(img_height, img_width),\n",
    "  batch_size=batch_size)"
   ]
  },
  {
   "cell_type": "code",
   "execution_count": 22,
   "metadata": {},
   "outputs": [
    {
     "data": {
      "text/plain": [
       "<BatchDataset element_spec=(TensorSpec(shape=(None, 256, 256, 3), dtype=tf.float32, name=None), TensorSpec(shape=(None, 1), dtype=tf.float32, name=None))>"
      ]
     },
     "execution_count": 22,
     "metadata": {},
     "output_type": "execute_result"
    }
   ],
   "source": [
    "train_ds"
   ]
  },
  {
   "cell_type": "code",
   "execution_count": 6,
   "metadata": {},
   "outputs": [
    {
     "name": "stdout",
     "output_type": "stream",
     "text": [
      "Found 5232 files belonging to 2 classes.\n",
      "Using 1046 files for validation.\n"
     ]
    }
   ],
   "source": [
    "val_ds = image_dataset_from_directory(\n",
    "  train_folder,\n",
    "  label_mode = 'binary',\n",
    "  validation_split=0.2,\n",
    "  subset=\"validation\",\n",
    "  seed=123,\n",
    "  image_size=(img_height, img_width),\n",
    "  batch_size=batch_size)"
   ]
  },
  {
   "cell_type": "code",
   "execution_count": 7,
   "metadata": {},
   "outputs": [
    {
     "data": {
      "text/plain": [
       "<BatchDataset element_spec=(TensorSpec(shape=(None, 256, 256, 3), dtype=tf.float32, name=None), TensorSpec(shape=(None, 1), dtype=tf.float32, name=None))>"
      ]
     },
     "execution_count": 7,
     "metadata": {},
     "output_type": "execute_result"
    }
   ],
   "source": [
    "train_ds"
   ]
  },
  {
   "cell_type": "code",
   "execution_count": 8,
   "metadata": {},
   "outputs": [
    {
     "name": "stdout",
     "output_type": "stream",
     "text": [
      "Found 624 files belonging to 2 classes.\n"
     ]
    }
   ],
   "source": [
    "test_ds = image_dataset_from_directory(\n",
    "  test_folder,\n",
    "  label_mode = 'binary',\n",
    "  seed=123,\n",
    "  image_size=(img_height, img_width),\n",
    "  batch_size=batch_size)"
   ]
  },
  {
   "cell_type": "code",
   "execution_count": 9,
   "metadata": {},
   "outputs": [
    {
     "name": "stdout",
     "output_type": "stream",
     "text": [
      "['NORMAL', 'PNEUMONIA']\n"
     ]
    }
   ],
   "source": [
    "class_names = train_ds.class_names\n",
    "print(class_names)"
   ]
  },
  {
   "cell_type": "code",
   "execution_count": 24,
   "metadata": {},
   "outputs": [],
   "source": [
    "# Build a baseline fully connected model\n",
    "from tensorflow.keras.models import Sequential\n",
    "from tensorflow.keras import layers\n",
    "\n",
    "num_classes = len(class_names)\n",
    "\n",
    "model = Sequential([\n",
    "  layers.Rescaling(1./255, input_shape=(img_height, img_width, 3)),\n",
    "  layers.Flatten(),\n",
    "  layers.Dense(20, activation='relu'),\n",
    "  layers.Dense(7, activation='relu'),\n",
    "  layers.Dense(num_classes, activation='softmax')\n",
    "])"
   ]
  },
  {
   "cell_type": "code",
   "execution_count": 37,
   "metadata": {},
   "outputs": [],
   "source": [
    "# code from: https://datascience.stackexchange.com/questions/45165/how-to-get-accuracy-f1-precision-and-recall-for-a-keras-model\n",
    "\n",
    "from tensorflow.keras import backend as K\n",
    "\n",
    "def recall_m(y_true, y_pred):\n",
    "    true_positives = K.sum(K.round(K.clip(y_true * y_pred, 0, 1)))\n",
    "    possible_positives = K.sum(K.round(K.clip(y_true, 0, 1)))\n",
    "    recall = true_positives / (possible_positives + K.epsilon())\n",
    "    return recall\n",
    "\n",
    "def precision_m(y_true, y_pred):\n",
    "    true_positives = K.sum(K.round(K.clip(y_true * y_pred, 0, 1)))\n",
    "    predicted_positives = K.sum(K.round(K.clip(y_pred, 0, 1)))\n",
    "    precision = true_positives / (predicted_positives + K.epsilon())\n",
    "    return precision\n",
    "\n",
    "def f1_m(y_true, y_pred):\n",
    "    precision = precision_m(y_true, y_pred)\n",
    "    recall = recall_m(y_true, y_pred)\n",
    "    return 2*((precision*recall)/(precision+recall+K.epsilon()))"
   ]
  },
  {
   "cell_type": "code",
   "execution_count": 38,
   "metadata": {
    "scrolled": false
   },
   "outputs": [
    {
     "name": "stdout",
     "output_type": "stream",
     "text": [
      "Epoch 1/50\n",
      "131/131 [==============================] - 8s 58ms/step - loss: 0.0861 - acc: 0.9732 - f1_m: 0.8446 - val_loss: 0.0898 - val_acc: 0.9704 - val_f1_m: 0.8702\n",
      "Epoch 2/50\n",
      "131/131 [==============================] - 8s 58ms/step - loss: 0.0762 - acc: 0.9730 - f1_m: 0.8444 - val_loss: 0.0979 - val_acc: 0.9637 - val_f1_m: 0.8698\n",
      "Epoch 3/50\n",
      "131/131 [==============================] - 8s 59ms/step - loss: 0.0874 - acc: 0.9713 - f1_m: 0.8442 - val_loss: 0.0897 - val_acc: 0.9723 - val_f1_m: 0.8704\n",
      "Epoch 4/50\n",
      "131/131 [==============================] - 8s 57ms/step - loss: 0.0812 - acc: 0.9761 - f1_m: 0.8439 - val_loss: 0.1089 - val_acc: 0.9598 - val_f1_m: 0.8711\n",
      "Epoch 5/50\n",
      "131/131 [==============================] - 8s 60ms/step - loss: 0.1008 - acc: 0.9637 - f1_m: 0.8442 - val_loss: 0.0966 - val_acc: 0.9646 - val_f1_m: 0.8716\n",
      "Epoch 6/50\n",
      "131/131 [==============================] - 8s 59ms/step - loss: 0.0874 - acc: 0.9680 - f1_m: 0.8440 - val_loss: 0.1233 - val_acc: 0.9570 - val_f1_m: 0.8718\n",
      "Epoch 7/50\n",
      "131/131 [==============================] - 8s 59ms/step - loss: 0.0672 - acc: 0.9790 - f1_m: 0.8440 - val_loss: 0.0878 - val_acc: 0.9704 - val_f1_m: 0.8714\n",
      "Epoch 8/50\n",
      "131/131 [==============================] - 8s 60ms/step - loss: 0.0670 - acc: 0.9787 - f1_m: 0.8444 - val_loss: 0.1463 - val_acc: 0.9493 - val_f1_m: 0.8708\n",
      "Epoch 9/50\n",
      "131/131 [==============================] - 9s 66ms/step - loss: 0.0644 - acc: 0.9802 - f1_m: 0.8437 - val_loss: 0.0986 - val_acc: 0.9675 - val_f1_m: 0.8718\n",
      "Epoch 10/50\n",
      "131/131 [==============================] - 8s 61ms/step - loss: 0.0727 - acc: 0.9744 - f1_m: 0.8438 - val_loss: 0.2125 - val_acc: 0.9187 - val_f1_m: 0.8710\n",
      "Epoch 11/50\n",
      "131/131 [==============================] - 8s 61ms/step - loss: 0.0759 - acc: 0.9744 - f1_m: 0.8446 - val_loss: 0.0894 - val_acc: 0.9646 - val_f1_m: 0.8708\n",
      "Epoch 12/50\n",
      "131/131 [==============================] - 8s 61ms/step - loss: 0.0591 - acc: 0.9790 - f1_m: 0.8440 - val_loss: 0.0852 - val_acc: 0.9685 - val_f1_m: 0.8719\n",
      "Epoch 13/50\n",
      "131/131 [==============================] - 8s 60ms/step - loss: 0.0538 - acc: 0.9833 - f1_m: 0.8443 - val_loss: 0.1133 - val_acc: 0.9598 - val_f1_m: 0.8708\n",
      "Epoch 14/50\n",
      "131/131 [==============================] - 8s 62ms/step - loss: 0.0659 - acc: 0.9771 - f1_m: 0.8442 - val_loss: 0.0876 - val_acc: 0.9637 - val_f1_m: 0.8715\n",
      "Epoch 15/50\n",
      "131/131 [==============================] - 8s 61ms/step - loss: 0.0709 - acc: 0.9732 - f1_m: 0.8440 - val_loss: 0.1490 - val_acc: 0.9522 - val_f1_m: 0.8713\n",
      "Epoch 16/50\n",
      "131/131 [==============================] - 9s 64ms/step - loss: 0.0563 - acc: 0.9818 - f1_m: 0.8445 - val_loss: 0.0993 - val_acc: 0.9627 - val_f1_m: 0.8710\n",
      "Epoch 17/50\n",
      "131/131 [==============================] - 9s 62ms/step - loss: 0.0451 - acc: 0.9873 - f1_m: 0.8443 - val_loss: 0.0891 - val_acc: 0.9713 - val_f1_m: 0.8706\n",
      "Epoch 18/50\n",
      "131/131 [==============================] - 8s 62ms/step - loss: 0.0575 - acc: 0.9816 - f1_m: 0.8440 - val_loss: 0.1136 - val_acc: 0.9598 - val_f1_m: 0.8718\n",
      "Epoch 19/50\n",
      "131/131 [==============================] - 9s 62ms/step - loss: 0.0624 - acc: 0.9792 - f1_m: 0.8442 - val_loss: 0.1551 - val_acc: 0.9436 - val_f1_m: 0.8712\n",
      "Epoch 20/50\n",
      "131/131 [==============================] - 9s 65ms/step - loss: 0.0594 - acc: 0.9780 - f1_m: 0.8446 - val_loss: 0.0875 - val_acc: 0.9675 - val_f1_m: 0.8694\n",
      "Epoch 21/50\n",
      "131/131 [==============================] - 8s 61ms/step - loss: 0.0592 - acc: 0.9804 - f1_m: 0.8435 - val_loss: 0.0926 - val_acc: 0.9704 - val_f1_m: 0.8712\n",
      "Epoch 22/50\n",
      "131/131 [==============================] - 8s 62ms/step - loss: 0.0474 - acc: 0.9842 - f1_m: 0.8442 - val_loss: 0.0900 - val_acc: 0.9713 - val_f1_m: 0.8701\n",
      "Epoch 23/50\n",
      "131/131 [==============================] - 8s 62ms/step - loss: 0.0687 - acc: 0.9761 - f1_m: 0.8438 - val_loss: 0.0927 - val_acc: 0.9704 - val_f1_m: 0.8697\n",
      "Epoch 24/50\n",
      "131/131 [==============================] - 8s 61ms/step - loss: 0.0482 - acc: 0.9859 - f1_m: 0.8439 - val_loss: 0.0869 - val_acc: 0.9694 - val_f1_m: 0.8709\n",
      "Epoch 25/50\n",
      "131/131 [==============================] - 8s 61ms/step - loss: 0.0516 - acc: 0.9838 - f1_m: 0.8436 - val_loss: 0.0950 - val_acc: 0.9665 - val_f1_m: 0.8713\n",
      "Epoch 26/50\n",
      "131/131 [==============================] - 9s 66ms/step - loss: 0.0374 - acc: 0.9883 - f1_m: 0.8439 - val_loss: 0.0959 - val_acc: 0.9675 - val_f1_m: 0.8700\n",
      "Epoch 27/50\n",
      "131/131 [==============================] - 8s 61ms/step - loss: 0.0425 - acc: 0.9883 - f1_m: 0.8444 - val_loss: 0.1256 - val_acc: 0.9560 - val_f1_m: 0.8712\n",
      "Epoch 28/50\n",
      "131/131 [==============================] - 8s 60ms/step - loss: 0.0520 - acc: 0.9835 - f1_m: 0.8445 - val_loss: 0.1073 - val_acc: 0.9646 - val_f1_m: 0.8713\n",
      "Epoch 29/50\n",
      "131/131 [==============================] - 8s 60ms/step - loss: 0.0536 - acc: 0.9818 - f1_m: 0.8446 - val_loss: 0.0903 - val_acc: 0.9713 - val_f1_m: 0.8705\n",
      "Epoch 30/50\n",
      "131/131 [==============================] - 8s 59ms/step - loss: 0.0313 - acc: 0.9919 - f1_m: 0.8444 - val_loss: 0.0974 - val_acc: 0.9685 - val_f1_m: 0.8707\n",
      "Epoch 31/50\n",
      "131/131 [==============================] - 8s 61ms/step - loss: 0.0869 - acc: 0.9713 - f1_m: 0.8442 - val_loss: 0.0865 - val_acc: 0.9665 - val_f1_m: 0.8709\n",
      "Epoch 32/50\n",
      "131/131 [==============================] - 8s 60ms/step - loss: 0.0350 - acc: 0.9897 - f1_m: 0.8446 - val_loss: 0.0960 - val_acc: 0.9694 - val_f1_m: 0.8704\n",
      "Epoch 33/50\n",
      "131/131 [==============================] - 8s 62ms/step - loss: 0.0578 - acc: 0.9797 - f1_m: 0.8446 - val_loss: 0.1475 - val_acc: 0.9512 - val_f1_m: 0.8697\n",
      "Epoch 34/50\n",
      "131/131 [==============================] - 8s 60ms/step - loss: 0.0361 - acc: 0.9881 - f1_m: 0.8436 - val_loss: 0.1372 - val_acc: 0.9598 - val_f1_m: 0.8712\n",
      "Epoch 35/50\n",
      "131/131 [==============================] - 8s 62ms/step - loss: 0.1111 - acc: 0.9615 - f1_m: 0.8439 - val_loss: 0.1387 - val_acc: 0.9474 - val_f1_m: 0.8718\n",
      "Epoch 36/50\n",
      "131/131 [==============================] - 9s 64ms/step - loss: 0.0402 - acc: 0.9869 - f1_m: 0.8441 - val_loss: 0.0955 - val_acc: 0.9637 - val_f1_m: 0.8711\n",
      "Epoch 37/50\n",
      "131/131 [==============================] - 9s 63ms/step - loss: 0.0414 - acc: 0.9849 - f1_m: 0.8443 - val_loss: 0.1012 - val_acc: 0.9694 - val_f1_m: 0.8714\n",
      "Epoch 38/50\n",
      "131/131 [==============================] - 9s 64ms/step - loss: 0.0628 - acc: 0.9761 - f1_m: 0.8438 - val_loss: 0.0918 - val_acc: 0.9713 - val_f1_m: 0.8712\n",
      "Epoch 39/50\n",
      "131/131 [==============================] - 9s 62ms/step - loss: 0.0388 - acc: 0.9859 - f1_m: 0.8444 - val_loss: 0.1744 - val_acc: 0.9426 - val_f1_m: 0.8699\n",
      "Epoch 40/50\n",
      "131/131 [==============================] - 9s 63ms/step - loss: 0.0390 - acc: 0.9876 - f1_m: 0.8446 - val_loss: 0.0964 - val_acc: 0.9685 - val_f1_m: 0.8707\n",
      "Epoch 41/50\n",
      "131/131 [==============================] - 9s 63ms/step - loss: 0.0802 - acc: 0.9728 - f1_m: 0.8441 - val_loss: 0.0887 - val_acc: 0.9704 - val_f1_m: 0.8715\n",
      "Epoch 42/50\n",
      "131/131 [==============================] - 9s 62ms/step - loss: 0.0623 - acc: 0.9778 - f1_m: 0.8444 - val_loss: 0.0929 - val_acc: 0.9685 - val_f1_m: 0.8711\n",
      "Epoch 43/50\n",
      "131/131 [==============================] - 9s 65ms/step - loss: 0.0287 - acc: 0.9919 - f1_m: 0.8443 - val_loss: 0.0920 - val_acc: 0.9694 - val_f1_m: 0.8716\n",
      "Epoch 44/50\n",
      "131/131 [==============================] - 9s 63ms/step - loss: 0.0365 - acc: 0.9876 - f1_m: 0.8446 - val_loss: 0.1284 - val_acc: 0.9598 - val_f1_m: 0.8708\n",
      "Epoch 45/50\n",
      "131/131 [==============================] - 8s 61ms/step - loss: 0.0641 - acc: 0.9795 - f1_m: 0.8440 - val_loss: 0.0969 - val_acc: 0.9646 - val_f1_m: 0.8707\n",
      "Epoch 46/50\n",
      "131/131 [==============================] - 8s 60ms/step - loss: 0.0305 - acc: 0.9900 - f1_m: 0.8442 - val_loss: 0.1006 - val_acc: 0.9665 - val_f1_m: 0.8703\n",
      "Epoch 47/50\n",
      "131/131 [==============================] - 9s 63ms/step - loss: 0.0251 - acc: 0.9935 - f1_m: 0.8441 - val_loss: 0.1091 - val_acc: 0.9665 - val_f1_m: 0.8715\n",
      "Epoch 48/50\n",
      "131/131 [==============================] - 8s 61ms/step - loss: 0.0249 - acc: 0.9919 - f1_m: 0.8439 - val_loss: 0.1137 - val_acc: 0.9637 - val_f1_m: 0.8706\n",
      "Epoch 49/50\n",
      "131/131 [==============================] - 8s 60ms/step - loss: 0.0331 - acc: 0.9876 - f1_m: 0.8438 - val_loss: 0.1766 - val_acc: 0.9446 - val_f1_m: 0.8698\n"
     ]
    },
    {
     "name": "stdout",
     "output_type": "stream",
     "text": [
      "Epoch 50/50\n",
      "131/131 [==============================] - 9s 64ms/step - loss: 0.0981 - acc: 0.9680 - f1_m: 0.8450 - val_loss: 0.1091 - val_acc: 0.9675 - val_f1_m: 0.8714\n"
     ]
    }
   ],
   "source": [
    "model.compile(optimizer='adam',\n",
    "              loss='sparse_categorical_crossentropy',\n",
    "              metrics=['acc', f1_m])\n",
    "\n",
    "history = model.fit(train_ds,\n",
    "                    epochs=50,\n",
    "                    validation_data=val_ds)"
   ]
  },
  {
   "cell_type": "code",
   "execution_count": 26,
   "metadata": {},
   "outputs": [
    {
     "name": "stdout",
     "output_type": "stream",
     "text": [
      "131/131 [==============================] - 6s 41ms/step - loss: 0.0960 - accuracy: 0.9656\n"
     ]
    }
   ],
   "source": [
    "results_train = model.evaluate(train_ds)"
   ]
  },
  {
   "cell_type": "code",
   "execution_count": 27,
   "metadata": {},
   "outputs": [
    {
     "data": {
      "text/plain": [
       "[0.09600621461868286, 0.9655995965003967]"
      ]
     },
     "execution_count": 27,
     "metadata": {},
     "output_type": "execute_result"
    }
   ],
   "source": [
    "results_train"
   ]
  },
  {
   "cell_type": "code",
   "execution_count": 28,
   "metadata": {},
   "outputs": [
    {
     "name": "stdout",
     "output_type": "stream",
     "text": [
      "33/33 [==============================] - 1s 33ms/step - loss: 0.1184 - accuracy: 0.9589\n"
     ]
    }
   ],
   "source": [
    "results_val = model.evaluate(val_ds)"
   ]
  },
  {
   "cell_type": "code",
   "execution_count": 30,
   "metadata": {},
   "outputs": [
    {
     "data": {
      "text/plain": [
       "[0.11843656003475189, 0.9588910341262817]"
      ]
     },
     "execution_count": 30,
     "metadata": {},
     "output_type": "execute_result"
    }
   ],
   "source": [
    "results_val"
   ]
  },
  {
   "cell_type": "code",
   "execution_count": null,
   "metadata": {},
   "outputs": [],
   "source": []
  }
 ],
 "metadata": {
  "kernelspec": {
   "display_name": "Python (learn-env)",
   "language": "python",
   "name": "learn-env"
  },
  "language_info": {
   "codemirror_mode": {
    "name": "ipython",
    "version": 3
   },
   "file_extension": ".py",
   "mimetype": "text/x-python",
   "name": "python",
   "nbconvert_exporter": "python",
   "pygments_lexer": "ipython3",
   "version": "3.8.5"
  }
 },
 "nbformat": 4,
 "nbformat_minor": 4
}
